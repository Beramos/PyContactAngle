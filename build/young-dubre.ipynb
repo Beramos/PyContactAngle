{
 "cells": [
  {
   "cell_type": "code",
   "execution_count": 99,
   "metadata": {},
   "outputs": [],
   "source": ["!pip install pyswarm"]
  },

  {
   "cell_type": "markdown",
   "metadata": {},
   "source": [
    "## Contact angle solver Young-Dubré"
   ]
  },
  {
   "cell_type": "markdown",
   "metadata": {},
   "source": [
    "### Loading in some libraries"
   ]
  },
  {
   "cell_type": "code",
   "execution_count": 2,
   "metadata": {
    "ExecuteTime": {
     "start_time": "2021-01-12T10:39:39.096Z"
    }
   },
   "outputs": [
    {
     "ename": "ModuleNotFoundError",
     "evalue": "No module named 'numpy'",
     "output_type": "error",
     "traceback": [
      "\u001b[0;31m---------------------------------------------------------------------------\u001b[0m",
      "\u001b[0;31mModuleNotFoundError\u001b[0m                       Traceback (most recent call last)",
      "\u001b[0;32m<ipython-input-2-29c4e8ebbe03>\u001b[0m in \u001b[0;36m<module>\u001b[0;34m\u001b[0m\n\u001b[0;32m----> 1\u001b[0;31m \u001b[0;32mimport\u001b[0m \u001b[0mnumpy\u001b[0m \u001b[0;32mas\u001b[0m \u001b[0mnp\u001b[0m      \u001b[0;31m# mathematics and matrices in Python\u001b[0m\u001b[0;34m\u001b[0m\u001b[0;34m\u001b[0m\u001b[0m\n\u001b[0m\u001b[1;32m      2\u001b[0m \u001b[0;32mfrom\u001b[0m \u001b[0mpyswarm\u001b[0m \u001b[0;32mimport\u001b[0m \u001b[0mpso\u001b[0m \u001b[0;31m# particle swarm optimisation\u001b[0m\u001b[0;34m\u001b[0m\u001b[0;34m\u001b[0m\u001b[0m\n",
      "\u001b[0;31mModuleNotFoundError\u001b[0m: No module named 'numpy'"
     ]
    }
   ],
   "source": [
    "import numpy as np      # mathematics and matrices in Python\n",
    "from pyswarm import pso # particle swarm optimisation"
   ]
  },
  {
   "cell_type": "markdown",
   "metadata": {},
   "source": [
    "### Defining classes and functions"
   ]
  },
  {
   "cell_type": "code",
   "execution_count": 1,
   "metadata": {},
   "outputs": [],
   "source": [
    "class Solvent:    \n",
    "    def __init__(self, g_LW, g_plus, g_minus, angle):\n",
    "        self.g_LW = g_LW\n",
    "        self.g_plus = g_plus\n",
    "        self.g_minus = g_minus\n",
    "        self.angle = angle\n",
    "        \n",
    "    def surface_tension(self):\n",
    "        return self.g_LW + 2.*np.sqrt(self.g_plus*self.g_minus)\n",
    "                \n",
    "\n",
    "def young_dubre(solvent, gamma_surf):\n",
    "    gs1, gs2, gs3 = gamma_surf\n",
    "    return 2.*(np.sqrt(gs1*solvent.g_LW)+np.sqrt(gs2*solvent.g_minus)+np.sqrt(gs3*solvent.g_plus))- \\\n",
    "    (1.+np.cos(np.deg2rad(solvent.angle)))*solvent.surface_tension()\n",
    "\n",
    "class Three_solvent_system:\n",
    "    def __init__(self, s1, s2, s3):\n",
    "        self.s1 = s1\n",
    "        self.s2 = s2\n",
    "        self.s3 = s3\n",
    "    \n",
    "    def objective(self, gamma_surf):\n",
    "        SSE = sum([\n",
    "            young_dubre(self.s1, gamma_surf)**2,\n",
    "            young_dubre(self.s2, gamma_surf)**2,\n",
    "            young_dubre(self.s3, gamma_surf)**2\n",
    "        ])\n",
    "        return SSE\n"
   ]
  },
  {
   "cell_type": "markdown",
   "metadata": {},
   "source": [
    "### Solver settings"
   ]
  },
  {
   "cell_type": "code",
   "execution_count": 3,
   "metadata": {
    "collapsed": true
   },
   "outputs": [],
   "source": [
    "lb = [0.0, 0.0, 0.0]           # lower bounds of surface props.\n",
    "ub = [1000.0, 1000.0, 1000.0]  # upper bounds of surface props."
   ]
  },
  {
   "cell_type": "markdown",
   "metadata": {},
   "source": [
    "### Contact angle set 1"
   ]
  },
  {
   "cell_type": "code",
   "execution_count": 4,
   "metadata": {
    "collapsed": true
   },
   "outputs": [],
   "source": [
    "water = Solvent(21.8, # gamma_LW\n",
    "                25.5, # gamma_plus\n",
    "                25.5, # gamma_minus\n",
    "                31.7) # contact angle  \n",
    "\n",
    "glycerol = Solvent(34.0, 3.92, 57.4, 40.0)\n",
    "\n",
    "diiodomethane = Solvent(50.8, 0.01, 0.0, 48.9)"
   ]
  },
  {
   "cell_type": "code",
   "execution_count": 5,
   "metadata": {
    "collapsed": true
   },
   "outputs": [],
   "source": [
    "system = Three_solvent_system(water, glycerol, diiodomethane)"
   ]
  },
  {
   "cell_type": "code",
   "execution_count": 6,
   "metadata": {},
   "outputs": [
    {
     "name": "stdout",
     "output_type": "stream",
     "text": [
      "Stopping search: Swarm best objective change less than 1e-08\n"
     ]
    },
    {
     "data": {
      "text/plain": [
       "(array([33.77688979,  1.49852944, 45.47309736]), 4.966515481640414e-09)"
      ]
     },
     "execution_count": 6,
     "metadata": {},
     "output_type": "execute_result"
    }
   ],
   "source": [
    "pso(system.objective, lb, ub)"
   ]
  },
  {
   "cell_type": "markdown",
   "metadata": {},
   "source": [
    "### Contact angle set 2"
   ]
  },
  {
   "cell_type": "code",
   "execution_count": 7,
   "metadata": {
    "collapsed": true
   },
   "outputs": [],
   "source": [
    "water = Solvent(21.8, 25.5, 25.5, 44.2) # contact angle  \n",
    "\n",
    "ethyleneGlycol = Solvent(29.0, 3.0, 30.1, 84.7)\n",
    "\n",
    "diiodomethane = Solvent(50.8, 0.01, 0.0, 65.0)"
   ]
  },
  {
   "cell_type": "code",
   "execution_count": 8,
   "metadata": {
    "collapsed": true
   },
   "outputs": [],
   "source": [
    "system = Three_solvent_system(water, ethyleneGlycol, diiodomethane)"
   ]
  },
  {
   "cell_type": "code",
   "execution_count": 9,
   "metadata": {},
   "outputs": [
    {
     "name": "stdout",
     "output_type": "stream",
     "text": [
      "Stopping search: Swarm best objective change less than 1e-08\n"
     ]
    },
    {
     "data": {
      "text/plain": [
       "(array([17.69039602,  0.        , 61.30077823]), 558.914109124122)"
      ]
     },
     "execution_count": 9,
     "metadata": {},
     "output_type": "execute_result"
    }
   ],
   "source": [
    "pso(system.objective, lb, ub)"
   ]
  },
  {
   "cell_type": "markdown",
   "metadata": {},
   "source": [
    "Hierboven kan je zien dat hij convergeert naar je MATLAB systeem maar aan de waarde van je doelfunctie `558.91` zie je dat de Young Dubré vergelijking niet echt goed voldaan is"
   ]
  },
  {
   "cell_type": "code",
   "execution_count": null,
   "metadata": {
    "collapsed": true
   },
   "outputs": [],
   "source": []
  }
 ],
 "metadata": {
  "@webio": {
   "lastCommId": null,
   "lastKernelId": null
  },
  "hide_input": false,
  "kernelspec": {
   "display_name": "Python 3",
   "language": "python",
   "name": "python3"
  },
  "language_info": {
   "codemirror_mode": {
    "name": "ipython",
    "version": 3
   },
   "file_extension": ".py",
   "mimetype": "text/x-python",
   "name": "python",
   "nbconvert_exporter": "python",
   "pygments_lexer": "ipython3",
   "version": "3.9.1"
  },
  "latex_envs": {
   "LaTeX_envs_menu_present": true,
   "autocomplete": true,
   "bibliofile": "biblio.bib",
   "cite_by": "apalike",
   "current_citInitial": 1,
   "eqLabelWithNumbers": true,
   "eqNumInitial": 1,
   "hotkeys": {
    "equation": "Ctrl-E",
    "itemize": "Ctrl-I"
   },
   "labels_anchors": false,
   "latex_user_defs": false,
   "report_style_numbering": false,
   "user_envs_cfg": false
  }
 },
 "nbformat": 4,
 "nbformat_minor": 2
}
